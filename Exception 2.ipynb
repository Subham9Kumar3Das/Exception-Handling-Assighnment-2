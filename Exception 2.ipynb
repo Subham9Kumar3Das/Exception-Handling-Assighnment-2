{
 "cells": [
  {
   "cell_type": "markdown",
   "id": "c0d835b4-7804-4348-b791-c1621c02ea67",
   "metadata": {},
   "source": [
    "* Q1. Explain why we have to use the Exception class while creating a Custom Exception.\n",
    "  * Note: Here Exception class refers to the base class for all the exceptions.\n",
    "* Q2. Write a python program to print Python Exception Hierarchy.\n",
    "* Q3. What errors are defined in the ArithmeticError class? Explain any two with an example.\n",
    "* Q4. Why LookupError class is used? Explain with an example KeyError and IndexError.\n",
    "* Q5. Explain ImportError. What is ModuleNotFoundError?\n",
    "* Q6. List down some best practices for exception handling in python."
   ]
  },
  {
   "cell_type": "markdown",
   "id": "dccb680c-666a-4c5f-a996-00328c0c794c",
   "metadata": {
    "jp-MarkdownHeadingCollapsed": true,
    "tags": []
   },
   "source": [
    "### Q1. Explain why we have to use the Exception class while creating a Custom Exception.\n",
    " * Note: Here Exception class refers to the base class for all the exceptions."
   ]
  },
  {
   "cell_type": "markdown",
   "id": "9d78b4b1-2ae1-41d6-8ac4-5c7f6387ad4d",
   "metadata": {},
   "source": [
    "Exception class is used while creating a Custom exception because it will make the custom error a part of Exception class as a result it will act as other exception work"
   ]
  },
  {
   "cell_type": "markdown",
   "id": "87431504-c487-4585-b01b-555c9830014c",
   "metadata": {
    "jp-MarkdownHeadingCollapsed": true,
    "tags": []
   },
   "source": [
    "### Q2. Write a python program to print Python Exception Hierarchy."
   ]
  },
  {
   "cell_type": "code",
   "execution_count": null,
   "id": "a765f9e8-1d6c-459c-bd4f-c8686bd5568f",
   "metadata": {},
   "outputs": [],
   "source": [
    "def print_exception_hierarchy(exception_class, indent=0):\n",
    "    print(' ' * indent + str(exception_class.__name__))\n",
    "    for subclass in exception_class.__subclasses__():\n",
    "        print_exception_hierarchy(subclass, indent + 2)\n",
    "\n",
    "if __name__ == \"__main__\":\n",
    "    print(\"Python Exception Hierarchy:\")\n",
    "    print_exception_hierarchy(BaseException)\n"
   ]
  },
  {
   "cell_type": "markdown",
   "id": "02ac91f6-18d4-4d29-b527-c6a5e9e6c340",
   "metadata": {
    "jp-MarkdownHeadingCollapsed": true,
    "tags": []
   },
   "source": [
    "### Q3. What errors are defined in the ArithmeticError class? Explain any two with an example"
   ]
  },
  {
   "cell_type": "markdown",
   "id": "d459f87e-f90c-4ff5-b26b-b6cbdd4350a2",
   "metadata": {},
   "source": [
    "ZeroDivisonError"
   ]
  },
  {
   "cell_type": "code",
   "execution_count": null,
   "id": "3d256446-cf61-4f2a-8e6a-737a3f7de8ab",
   "metadata": {},
   "outputs": [],
   "source": [
    "def divide_numbers(a, b):\n",
    "    try:\n",
    "        result = a / b\n",
    "        print(\"Result:\", result)\n",
    "    except ZeroDivisionError as e:\n",
    "        print(\"Error:\", e)\n",
    "\n",
    "divide_numbers(10, 2)   # Output: Result: 5.0\n",
    "divide_numbers(5, 0)    # Output: Error: division by zero\n"
   ]
  },
  {
   "cell_type": "code",
   "execution_count": 13,
   "id": "ce7db3a8-9c99-4997-b9c4-26d557e150b0",
   "metadata": {},
   "outputs": [
    {
     "data": {
      "text/plain": [
       "OverflowError"
      ]
     },
     "execution_count": 13,
     "metadata": {},
     "output_type": "execute_result"
    }
   ],
   "source": [
    "OverflowError"
   ]
  },
  {
   "cell_type": "code",
   "execution_count": null,
   "id": "46a06a46-00c4-45e3-b6e5-65e284064fbc",
   "metadata": {},
   "outputs": [],
   "source": [
    "def calculate_large_factorial(n):\n",
    "    try:\n",
    "        result = 1\n",
    "        for i in range(1, n + 1):\n",
    "            result *= i\n",
    "        print(\"Result:\", result)\n",
    "    except OverflowError as e:\n",
    "        print(\"Error:\", e)\n",
    "\n",
    "calculate_large_factorial(10)   # Output: Result: 3628800\n",
    "calculate_large_factorial(10000) # Output: Error: int too large to convert to float\n"
   ]
  },
  {
   "cell_type": "markdown",
   "id": "a07468a4-93d5-4a89-8d9d-fdd8caf5a2a9",
   "metadata": {
    "jp-MarkdownHeadingCollapsed": true,
    "tags": []
   },
   "source": [
    "### Q4. Why LookupError class is used? Explain with an example KeyError and IndexError."
   ]
  },
  {
   "cell_type": "markdown",
   "id": "37e29d43-138d-495c-b899-a4156cf39691",
   "metadata": {},
   "source": [
    "The LookupError class in Python is used as the base class for exceptions that occur when there is an error during a lookup or retrieval operation on a sequence or mapping (such as lists, dictionaries, or tuples)."
   ]
  },
  {
   "cell_type": "markdown",
   "id": "31160fd3-be96-48ed-a26c-b7ed185ab5ae",
   "metadata": {},
   "source": [
    "* KeyError:If we want to get non existing key in the dictionary."
   ]
  },
  {
   "cell_type": "code",
   "execution_count": null,
   "id": "e303d891-1dae-4d9f-84bc-4f97c436d5d0",
   "metadata": {},
   "outputs": [],
   "source": [
    "my_dict = {'apple': 1, 'banana': 2, 'orange': 3}\n",
    "\n",
    "try:\n",
    "    print(my_dict['grape'])\n",
    "except KeyError as e:\n",
    "    print(\"Error:\", e)\n",
    "\n",
    "# Output: Error: 'grape'\n"
   ]
  },
  {
   "cell_type": "markdown",
   "id": "02b9e833-acfe-4af2-adc0-ca78eccfa9bf",
   "metadata": {},
   "source": [
    "* IndexError:Want to access not exisist index"
   ]
  },
  {
   "cell_type": "markdown",
   "id": "ea4725e3-90f1-4778-bc6c-8577e5e78286",
   "metadata": {
    "jp-MarkdownHeadingCollapsed": true,
    "tags": []
   },
   "source": [
    "### Q5. Explain ImportError. What is ModuleNotFoundError?"
   ]
  },
  {
   "cell_type": "markdown",
   "id": "3b0f673c-0709-4f7f-95a8-7444fd21a0eb",
   "metadata": {},
   "source": [
    "ImportError and ModuleNotFoundError are almost same only version diffence.They throws error when the module is not found or present."
   ]
  },
  {
   "cell_type": "code",
   "execution_count": 14,
   "id": "c1f239a9-81f7-4b31-a8e5-97967c0f84c7",
   "metadata": {},
   "outputs": [
    {
     "name": "stdout",
     "output_type": "stream",
     "text": [
      "Error: No module named 'non_existent_module'\n"
     ]
    }
   ],
   "source": [
    "try:\n",
    "    import non_existent_module\n",
    "except ModuleNotFoundError as e:\n",
    "    print(\"Error:\", e)\n",
    "\n",
    "# Output: Error: No module named 'non_existent_module'\n"
   ]
  },
  {
   "cell_type": "code",
   "execution_count": 15,
   "id": "31d9e89a-5d8d-4aaa-8455-fdf7b3bfac4b",
   "metadata": {},
   "outputs": [
    {
     "name": "stdout",
     "output_type": "stream",
     "text": [
      "Error: No module named 'non_existent_module'\n"
     ]
    }
   ],
   "source": [
    "try:\n",
    "    import non_existent_module\n",
    "except ImportError as e:\n",
    "    print(\"Error:\", e)\n",
    "\n",
    "# Output: Error: No module named 'non_existent_module'\n"
   ]
  },
  {
   "cell_type": "markdown",
   "id": "216dae4c-71c8-429d-9489-78538a088270",
   "metadata": {},
   "source": [
    "### Q6. List down some best practices for exception handling in python."
   ]
  },
  {
   "cell_type": "code",
   "execution_count": null,
   "id": "7b0716f0-501f-4b6d-82a4-abe372497bc1",
   "metadata": {},
   "outputs": [],
   "source": [
    "* Use specific name of the error.\n",
    "* Use logging function.\n"
   ]
  }
 ],
 "metadata": {
  "kernelspec": {
   "display_name": "Python 3 (ipykernel)",
   "language": "python",
   "name": "python3"
  },
  "language_info": {
   "codemirror_mode": {
    "name": "ipython",
    "version": 3
   },
   "file_extension": ".py",
   "mimetype": "text/x-python",
   "name": "python",
   "nbconvert_exporter": "python",
   "pygments_lexer": "ipython3",
   "version": "3.10.8"
  }
 },
 "nbformat": 4,
 "nbformat_minor": 5
}
